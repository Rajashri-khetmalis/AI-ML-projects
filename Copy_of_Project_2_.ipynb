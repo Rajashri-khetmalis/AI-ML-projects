{
  "nbformat": 4,
  "nbformat_minor": 0,
  "metadata": {
    "colab": {
      "provenance": [],
      "authorship_tag": "ABX9TyP/qcU9vwgwRceE5p+8iMin",
      "include_colab_link": true
    },
    "kernelspec": {
      "name": "python3",
      "display_name": "Python 3"
    },
    "language_info": {
      "name": "python"
    }
  },
  "cells": [
    {
      "cell_type": "markdown",
      "metadata": {
        "id": "view-in-github",
        "colab_type": "text"
      },
      "source": [
        "<a href=\"https://colab.research.google.com/github/Rajashri-khetmalis/AI-ML-projects/blob/main/Copy_of_Project_2_.ipynb\" target=\"_parent\"><img src=\"https://colab.research.google.com/assets/colab-badge.svg\" alt=\"Open In Colab\"/></a>"
      ]
    },
    {
      "cell_type": "markdown",
      "source": [
        "Select the file from your computer and it will be uploaded.\n",
        "Firstly import the Pandas library and use it to read the CSV file.\n"
      ],
      "metadata": {
        "id": "rCH4Ix_7yrxQ"
      }
    },
    {
      "cell_type": "code",
      "source": [],
      "metadata": {
        "id": "3ZcrdlnVACor"
      },
      "execution_count": null,
      "outputs": []
    },
    {
      "cell_type": "code",
      "execution_count": null,
      "metadata": {
        "id": "-j6x_T6DvxAp"
      },
      "outputs": [],
      "source": [
        "import pandas as pd\n",
        "df=pd.read_csv('/content/dataset2.csv')"
      ]
    },
    {
      "cell_type": "markdown",
      "source": [
        "In this project, we will be giving height as the input and weight should be predicted by the computer. So, for that we need to separate the two columns, this can be done by using the .tolist() method.\n"
      ],
      "metadata": {
        "id": "VSWdCbb9yz26"
      }
    },
    {
      "cell_type": "code",
      "source": [
        "height=df['Height'].tolist()\n",
        "weight=df['Weight'].tolist()"
      ],
      "metadata": {
        "id": "1o5xC0jAwnOH"
      },
      "execution_count": null,
      "outputs": []
    },
    {
      "cell_type": "markdown",
      "source": [
        "Next, in order to perform Linear Regression, we need to understand the formula used in it.\n",
        "It is y = m * x + c.\n",
        "y = m * x + c is the equation of a straight line in linear regression. It is a linear model that is used to model the relationship between two continuous variables, x and y.\n",
        "In this equation:\n",
        "x is the independent variable, representing the input or predictor.\n",
        "y is the dependent variable, representing the output or response.\n",
        "m is the slope of the line, which represents the change in the value of y per unit change in x.\n",
        "c is the y-intercept, which is the value of y when x is equal to zero.\n"
      ],
      "metadata": {
        "id": "onG7fMxRy-pj"
      }
    },
    {
      "cell_type": "markdown",
      "source": [
        "The value of m (slope) and c (y-intercept) is decided depending on the dataset automatically by using a library called numpy.\n",
        "Import numpy library in your code.\n"
      ],
      "metadata": {
        "id": "RlHPaunCzEnJ"
      }
    },
    {
      "cell_type": "code",
      "source": [
        "import numpy as np"
      ],
      "metadata": {
        "id": "oXc06zpTyDLn"
      },
      "execution_count": null,
      "outputs": []
    },
    {
      "cell_type": "markdown",
      "source": [
        "Next, we will use the .polyfit() function of numpy.\n",
        "The polyfit function in NumPy is used to fit a polynomial to a set of data points. It takes two main arguments:\n",
        "x: the independent variable, which can be either a one-dimensional array or a list.\n",
        "y: the dependent variable, which can also be either a one-dimensional array or a list.\n"
      ],
      "metadata": {
        "id": "FHO26W7BzJRh"
      }
    },
    {
      "cell_type": "markdown",
      "source": [
        "The polyfit function also takes an optional third argument, deg, which represents the degree of the polynomial to be fit. If deg is not specified, it is assumed to be 1, which means a simple linear regression model will be fit.\n",
        "We will make use of two variables m and c  to use polyfit as follows:\n"
      ],
      "metadata": {
        "id": "k7vr8XaKzN9n"
      }
    },
    {
      "cell_type": "code",
      "source": [
        "#slope and intercept using pre-built function of numpy\n",
        "\n",
        "m,c=np.polyfit(height,weight,1)"
      ],
      "metadata": {
        "id": "yX8A5X-jzRoe"
      },
      "execution_count": null,
      "outputs": []
    },
    {
      "cell_type": "markdown",
      "source": [
        "Next, we need to apply the y = m * x + c formula to all the data points in height, which will in turn predict the data points in weight. We will use a for loop for the same.\n",
        "We also need to store these values somewhere, so we will use a container (a list in python), which is named as y here. So, we will append (add) it inside the list.\n"
      ],
      "metadata": {
        "id": "teylnDE6zwig"
      }
    },
    {
      "cell_type": "code",
      "source": [
        "y=[]\n",
        "for x in height:\n",
        "  y_value=m*x+c\n",
        "  y.append(y_value)\n"
      ],
      "metadata": {
        "id": "93VsU4tTzy9G"
      },
      "execution_count": null,
      "outputs": []
    },
    {
      "cell_type": "markdown",
      "source": [
        "Lastly, now let’s try to predict the weight output by giving height as the input:"
      ],
      "metadata": {
        "id": "MKrlLmWL0O2N"
      }
    },
    {
      "cell_type": "code",
      "source": [
        "x=185\n",
        "y=m*x+c\n",
        "print(\"Weight pf someone with height {x} is {y}\")"
      ],
      "metadata": {
        "colab": {
          "base_uri": "https://localhost:8080/"
        },
        "id": "2pBHnpNM0Rl8",
        "outputId": "4a737989-fe80-4036-f285-49ef592dae43"
      },
      "execution_count": null,
      "outputs": [
        {
          "output_type": "stream",
          "name": "stdout",
          "text": [
            "Weight pf someone with height {x} is {y}\n"
          ]
        }
      ]
    }
  ]
}